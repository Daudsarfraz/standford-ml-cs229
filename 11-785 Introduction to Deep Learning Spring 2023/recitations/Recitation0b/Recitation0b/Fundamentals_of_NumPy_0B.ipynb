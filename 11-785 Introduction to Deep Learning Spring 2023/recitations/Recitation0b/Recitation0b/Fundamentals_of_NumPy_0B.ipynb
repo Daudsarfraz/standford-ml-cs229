{
 "cells": [
  {
   "cell_type": "markdown",
   "metadata": {},
   "source": [
    "# Recitation 0B - Fundamentals of NumPy\n",
    "## Table of Contents\n",
    "1. What is NumPy?\n",
    "2. Installation\n",
    "3. Initialization\n",
    "4. Accessing\n",
    "5. Modifying data\n",
    "6. Pivoting data\n",
    "7. Combining data\n",
    "8. Math operations"
   ]
  },
  {
   "cell_type": "markdown",
   "metadata": {},
   "source": [
    "## 1. What is NumPy?"
   ]
  },
  {
   "cell_type": "markdown",
   "metadata": {},
   "source": [
    "NumPy is the fundamental package for scientific computing in Python. \n",
    "It is a Python library that provides and an assortment of operations for fast operations on arrays - from mathematical, logical operations to basic linear algebra, random simulation and much more."
   ]
  },
  {
   "cell_type": "markdown",
   "metadata": {},
   "source": [
    "## 2. Installation\n",
    "Generally NumPy is pre-installed on CoLab/AWS. You should first check if NumPy is available and its version.\n",
    "\n",
    "To manually install Numpy, please follow the instructions below."
   ]
  },
  {
   "cell_type": "code",
   "execution_count": null,
   "metadata": {},
   "outputs": [],
   "source": [
    "# Check the installation of NumPy\n",
    "!pip show numpy\n",
    "\n",
    "# Install NumPy\n",
    "!pip install numpy\n",
    "\n",
    "# Import NumPy \n",
    "import numpy as np"
   ]
  },
  {
   "cell_type": "markdown",
   "metadata": {},
   "source": [
    "## 3. Initialization"
   ]
  },
  {
   "cell_type": "markdown",
   "metadata": {},
   "source": [
    "### a. Intrinsic NumPy array creation functions\n"
   ]
  },
  {
   "cell_type": "markdown",
   "metadata": {},
   "source": [
    "#### 1D array creation functions"
   ]
  },
  {
   "cell_type": "code",
   "execution_count": null,
   "metadata": {},
   "outputs": [],
   "source": [
    "# return evenly spaced values within a given interval\n",
    "range_arr = np.arange(10)\n",
    "print(\"An array given range is \\n\", range_arr, \" with dimensions \", range_arr.shape, \"\\n\")\n",
    "\n",
    "# return evenly spaced numbers over a specified interval\n",
    "linspace_arr = np.linspace(2.0, 3.0, num=5, endpoint=False)\n",
    "print(\"An evenly spaced array given range is \\n\", linspace_arr, \" with dimensions \", linspace_arr.shape, \"\\n\")"
   ]
  },
  {
   "cell_type": "markdown",
   "metadata": {},
   "source": [
    "#### General ndarray creation functions"
   ]
  },
  {
   "cell_type": "code",
   "execution_count": null,
   "metadata": {},
   "outputs": [],
   "source": [
    "# initialize an empty array with size 2 x 2\n",
    "empty_arr = np.empty((2, 2))\n",
    "print(\"An empty array is \\n\", empty_arr, \" with dimensions \", empty_arr.shape, \"\\n\")\n",
    "\n",
    "# initialize an all zero array with size 2 x 3\n",
    "zeros_arr = np.zeros((2, 3))\n",
    "print(\"A zeros array is \\n\", zeros_arr, \" with dimensions \", zeros_arr.shape, \"\\n\")\n",
    "\n",
    "# initialize an all one array with size 4 x 2\n",
    "ones_arr = np.ones((4, 2))\n",
    "print(\"A ones array is \\n\", ones_arr, \" with dimensions \", ones_arr.shape, \"\\n\")"
   ]
  },
  {
   "cell_type": "code",
   "execution_count": null,
   "metadata": {},
   "outputs": [],
   "source": [
    "# return an array of zeros with the same shape and type as a given array\n",
    "zeros_like_arr = np.zeros_like(ones_arr)\n",
    "print(\"A zero like array is \\n\", zeros_like_arr, \" with dimensions \", zeros_like_arr.shape, \"\\n\")\n",
    "\n",
    "# return an array of ones with the same shape and type as a given array\n",
    "ones_like_arr = np.ones_like(zeros_arr)\n",
    "print(\"A ones like array is \\n\", ones_like_arr, \" with dimensions \", ones_like_arr.shape, \"\\n\")"
   ]
  },
  {
   "cell_type": "code",
   "execution_count": null,
   "metadata": {},
   "outputs": [],
   "source": [
    "# return a new array of given shape and type, filled with fill_value\n",
    "tens_arr = np.full((2,2), 10)\n",
    "print(\"A filled array is \\n\", tens_arr, \" with dimensions \", tens_arr.shape, \"\\n\")\n",
    "\n",
    "# Return a full array with the same shape and type as a given array.\n",
    "full_like_arr = np.full_like(zeros_arr, 0.1, dtype=np.double)\n",
    "print(\"A full like array is \\n\", full_like_arr, \" with dimensions \", full_like_arr.shape, \"\\n\")"
   ]
  },
  {
   "cell_type": "markdown",
   "metadata": {},
   "source": [
    "### b. Create an array from existing data"
   ]
  },
  {
   "cell_type": "markdown",
   "metadata": {},
   "source": [
    "#### Conversion from other Python structures (i.e. lists and tuples)"
   ]
  },
  {
   "cell_type": "code",
   "execution_count": null,
   "metadata": {},
   "outputs": [],
   "source": [
    "# initialize an array with the given list\n",
    "new_list = [1, 2, 3, 4]\n",
    "arr_from_list = np.array(new_list)\n",
    "print(\"An array from given list is \\n\", arr_from_list, \" with dimensions \", arr_from_list.shape, \"\\n\")"
   ]
  },
  {
   "cell_type": "markdown",
   "metadata": {},
   "source": [
    "#### Reading arrays from disk"
   ]
  },
  {
   "cell_type": "code",
   "execution_count": null,
   "metadata": {},
   "outputs": [],
   "source": [
    "# initialize an array by loading data from a txt file\n",
    "#txt_arr = np.loadtxt(path_to_txt_file)\n",
    "\n",
    "# initialize an array by loading data from a npy file\n",
    "#loaded_arr = np.load(path_to_npy_file)"
   ]
  },
  {
   "cell_type": "markdown",
   "metadata": {},
   "source": [
    "### c. Use of special library functions (e.g., random)"
   ]
  },
  {
   "cell_type": "code",
   "execution_count": null,
   "metadata": {},
   "outputs": [],
   "source": [
    "a = np.random.randint(0, 10, size = (1,4))\n",
    "print(\"Random integer array\", a, \"of shape \", a.shape)\n",
    "\n",
    "np.random.seed(0)\n",
    "a = np.random.randint(0, 10, size = (1,4))\n",
    "print(\"Random integer array with seed\", a, \"of shape \", a.shape)"
   ]
  },
  {
   "cell_type": "code",
   "execution_count": null,
   "metadata": {},
   "outputs": [],
   "source": [
    "# create an array of the given shape and populate it with random samples from a uniform distribution over [0, 1)\n",
    "uniform_rand_arr = np.random.rand(3,2)\n",
    "print(\"A random array from a uniform distribution is \\n\", uniform_rand_arr, \" with dimensions \", uniform_rand_arr.shape, \"\\n\")\n",
    "\n",
    "# For random samples from N(\\mu, \\sigma^2), use:\n",
    "# sigma * np.random.randn(...) + mu\n",
    "mu = 3\n",
    "sigma =2.5\n",
    "sample_normal_arr = mu + sigma * np.random.randn(2, 4)\n",
    "print(\"A random array from a gaussian distribution is \\n\", sample_normal_arr)\n",
    "print(\"with mu: \", mu)\n",
    "print(\"with sigma: \", sigma)\n",
    "print(\"with dimensions \", sample_normal_arr.shape)"
   ]
  },
  {
   "cell_type": "markdown",
   "metadata": {},
   "source": [
    "## 4. Accessing data"
   ]
  },
  {
   "cell_type": "markdown",
   "metadata": {},
   "source": [
    "### a. Indexing: Accessing values from Numpy Arrays"
   ]
  },
  {
   "cell_type": "code",
   "execution_count": null,
   "metadata": {},
   "outputs": [],
   "source": [
    "n = np.random.rand(4, 5, 6) # see this as 4 batches, each containing 5 rows and 6 columns\n",
    "n\n",
    "\n",
    "n[1, 2, 3] # returns the element located in the fourth column of third row of the second batch."
   ]
  },
  {
   "cell_type": "markdown",
   "metadata": {},
   "source": [
    "### b. Slicing: Accessing subsections of Numpy Arrays based on Indices"
   ]
  },
  {
   "cell_type": "code",
   "execution_count": null,
   "metadata": {},
   "outputs": [],
   "source": [
    "# slice along a batch\n",
    "print(n[0, :, :]) # same as: n[0]\n",
    "\n",
    "print(n[0, 0:3, 0:4])\n",
    "\n",
    "# slice along multiple batches\n",
    "print(n[:, 3, 4]) # returns the elements in the 4th row and 5th column across all batches"
   ]
  },
  {
   "cell_type": "code",
   "execution_count": null,
   "metadata": {},
   "outputs": [],
   "source": [
    "#syntax for slicing at interval is start:stop:step_size \n",
    "\n",
    "print(n[0::2]) # slices from index 0 to the end of the dimension at intervals of 2\n",
    "\n",
    "print(n[0::2, 1:4, 1::2]) # rows (2-5) and columns at an interval of 2, starting from 1"
   ]
  },
  {
   "cell_type": "markdown",
   "metadata": {},
   "source": [
    "## 5. Modifying data"
   ]
  },
  {
   "cell_type": "markdown",
   "metadata": {},
   "source": [
    "### Modify single values"
   ]
  },
  {
   "cell_type": "code",
   "execution_count": null,
   "metadata": {},
   "outputs": [],
   "source": [
    "#When you assign an array or its elements to a new variable, \n",
    "#you have to explicitly numpy.copy the array, otherwise the variable is a view into the original array.\n",
    "\n",
    "n_copy = np.copy(n)\n",
    "\n",
    "# check if values in the two arrays are the same before copy\n",
    "print(n_copy[2, 4, 1] == n[2, 4, 1])\n",
    "\n",
    "n_copy[2, 4, 1] = 0.005\n",
    "\n",
    "# check if values in the two arrays are the same after copy\n",
    "print(n_copy[2, 4, 1] == n[2, 4, 1])"
   ]
  },
  {
   "cell_type": "markdown",
   "metadata": {},
   "source": [
    "### Modifying multiple values"
   ]
  },
  {
   "cell_type": "code",
   "execution_count": null,
   "metadata": {},
   "outputs": [],
   "source": [
    "# check if values in the two arrays are the same before copy\n",
    "print(f\"Are the arrays the same before modification: {n_copy[2, 3] == n[2, 3]}\")\n",
    "print(f\"Before modifying values: {n_copy[2, 3]}\")\n",
    "\n",
    "n_copy[2, 3] = 0.5\n",
    "\n",
    "print(f\"After modifying values: {n_copy[2, 3]}\")\n",
    "\n",
    "# check if values in the two arrays are the same after copy\n",
    "print(f\"Are the arrays the same after modification: {n_copy[2, 3] == n[2, 3]}\")"
   ]
  },
  {
   "cell_type": "markdown",
   "metadata": {},
   "source": [
    "## 6.Pivoting data"
   ]
  },
  {
   "cell_type": "markdown",
   "metadata": {},
   "source": [
    "### a. Reshaping Arrays\n",
    "Array reshaping is an operation that changes the shape of an array whilst maintaining the same data in the array. \n",
    "\n",
    "For instance, reshaping from (3, 4, 5) -> (2, 5, 6) or from (3, 4, 5) -> (6, 10). A reshape operation is valid, so long as the product of the new shape specified matches the product of the old shape."
   ]
  },
  {
   "cell_type": "markdown",
   "metadata": {},
   "source": [
    "#### Reshaping within the same number of dimensions"
   ]
  },
  {
   "cell_type": "code",
   "execution_count": null,
   "metadata": {},
   "outputs": [],
   "source": [
    "s = np.random.rand(3, 4, 5)\n",
    "print(f\"Original Shape: {s.shape}\")\n",
    "\n",
    "s.size\n",
    "\n",
    "print(s)"
   ]
  },
  {
   "cell_type": "code",
   "execution_count": null,
   "metadata": {},
   "outputs": [],
   "source": [
    "s1 = s.reshape(2, 6, 5)\n",
    "print(f\"Reshaped from s: {s1.shape}\")\n",
    "\n",
    "print(s1)"
   ]
  },
  {
   "cell_type": "markdown",
   "metadata": {},
   "source": [
    "#### Reshaping to a different number of dimensions"
   ]
  },
  {
   "cell_type": "code",
   "execution_count": null,
   "metadata": {},
   "outputs": [],
   "source": [
    "r = np.arange(120)\n",
    "\n",
    "print(f\"Original shape: {r.shape}\")\n",
    "\n",
    "print(r)"
   ]
  },
  {
   "cell_type": "code",
   "execution_count": null,
   "metadata": {},
   "outputs": [],
   "source": [
    "# (120,) -> (3, 4, 10)\n",
    "r1 = r.reshape(3, 4, 10) # this can also be written as r.reshape((3, 4, 10))\n",
    "print(f\"Reshaped from r: {r1.shape}\")\n",
    "\n",
    "print(r1)"
   ]
  },
  {
   "cell_type": "code",
   "execution_count": null,
   "metadata": {},
   "outputs": [],
   "source": [
    "# (3, 4, 10) -> (6, 20)\n",
    "r2 = r1.reshape(6, 20)\n",
    "print(f\"Reshaped from r1: {r2.shape}\")\n",
    "\n",
    "print(r2)"
   ]
  },
  {
   "cell_type": "markdown",
   "metadata": {},
   "source": [
    "### b. Transposing Arrays\n",
    "The transpose operation reverses the order of an array. It switches the rows to columns and vice versa. In a multi-dimensional array, the transpose operation moves the data from one axis to another in the order specified in the transpose method."
   ]
  },
  {
   "cell_type": "code",
   "execution_count": null,
   "metadata": {},
   "outputs": [],
   "source": [
    "x=np.arange(50).reshape((5,10))\n",
    "print(\"Shape of the original array\", x.shape)\n",
    "print(\"Original array\\n\", x)\n",
    "\n",
    "x1=np.transpose(x)\n",
    "print(\"Shape of the transposed array\", x1.shape)\n",
    "print(\"Transposed array\\n\", x1)\n",
    "\n",
    "x.T"
   ]
  },
  {
   "cell_type": "code",
   "execution_count": null,
   "metadata": {},
   "outputs": [],
   "source": [
    "w = np.arange(60).reshape((3, 4, 5))\n",
    "w\n",
    "\n",
    "print(\"Shape of the Original array\", w.shape)\n",
    "print(\"Original array\\n\", w)\n",
    "\n"
   ]
  },
  {
   "cell_type": "markdown",
   "metadata": {},
   "source": [
    "#### Transpose without specifying axes"
   ]
  },
  {
   "cell_type": "code",
   "execution_count": null,
   "metadata": {},
   "outputs": [],
   "source": [
    "# Original Shape: 3,4,5\n",
    "\n",
    "w1 = np.transpose(w)  # 0->2, 1->1, 2->0   (0,1,2)->(2,1,0)\n",
    "print(\"Shape of the transposed array\", w1.shape)\n",
    "print(\"Transposed array\\n\", w1)"
   ]
  },
  {
   "cell_type": "markdown",
   "metadata": {},
   "source": [
    "#### Transpose along specified axes"
   ]
  },
  {
   "cell_type": "code",
   "execution_count": null,
   "metadata": {},
   "outputs": [],
   "source": [
    "w\n",
    "\n",
    "# Original Shape: 3,4,5\n",
    "\n",
    "w2 = np.transpose(w, axes=(0, 2, 1)) # 0, 1, 2\n",
    "print(\"Shape of the transposed array\", w2.shape)\n",
    "print(\"Transposed array\\n\", w2)\n",
    "\n",
    "# Original Shape: 3,4,5\n",
    "\n",
    "w3 = np.transpose(w, axes=(1, 2, 0))\n",
    "print(\"Shape of the transposed array\", w3.shape)\n",
    "print(\"Transposed array\\n\", w3)"
   ]
  },
  {
   "cell_type": "markdown",
   "metadata": {},
   "source": [
    "### c. Flattening Arrays\n",
    "The flatten operation in Numpy collapses arrays of multiple dimensions into one dimension.\n",
    "\n",
    "\n",
    "Different orders can be specified when flattening Numpy Arrays. See examples below."
   ]
  },
  {
   "cell_type": "code",
   "execution_count": null,
   "metadata": {},
   "outputs": [],
   "source": [
    "k = np.random.rand(5, 6)\n",
    "\n",
    "k"
   ]
  },
  {
   "cell_type": "markdown",
   "metadata": {},
   "source": [
    "#### Flattening Arrays along the row (default order)"
   ]
  },
  {
   "cell_type": "code",
   "execution_count": null,
   "metadata": {},
   "outputs": [],
   "source": [
    "k1 = k.flatten() # all rows are stacked on each other into a 1D array.\n",
    "k1\n",
    "\n",
    "k1.shape"
   ]
  },
  {
   "cell_type": "markdown",
   "metadata": {},
   "source": [
    "#### Flattening Arrays along the column"
   ]
  },
  {
   "cell_type": "code",
   "execution_count": null,
   "metadata": {},
   "outputs": [],
   "source": [
    "k2= k.flatten('F') # forms a 1D array where elements in a column are listed before moving to the next column.\n",
    "k2\n",
    "\n",
    "k2.shape"
   ]
  },
  {
   "cell_type": "markdown",
   "metadata": {},
   "source": [
    "#### Flattening Arrays using Numpy Reshape\n"
   ]
  },
  {
   "cell_type": "code",
   "execution_count": null,
   "metadata": {},
   "outputs": [],
   "source": [
    "k4= k.reshape(-1)\n",
    "k4\n",
    "\n",
    "k4.shape"
   ]
  },
  {
   "cell_type": "markdown",
   "metadata": {},
   "source": [
    "### d. Squeezing & Expanding Arrays"
   ]
  },
  {
   "cell_type": "markdown",
   "metadata": {},
   "source": [
    "#### Squeezing Numpy Arrays\n",
    "\n",
    "The squeeze operation allows reduction of numpy arrays axes by dropping a specified axis, so long as it is of **unit length**. The product of the shape (overall size of the array) remains the same."
   ]
  },
  {
   "cell_type": "code",
   "execution_count": null,
   "metadata": {},
   "outputs": [],
   "source": [
    "sq = np.random.rand(4, 1, 5)\n",
    "print(f\"Original Array: \\n{sq}\\n\")\n",
    "print(f\"Shape of Original Array: {sq.shape}\")\n",
    "\n",
    "# transforms from (4, 1, 5) -> (4, 5)\n",
    "sq1 = np.squeeze(sq)\n",
    "print(f\"Squeezed Array: \\n {sq1}\\n\")\n",
    "print(f\"Shape of Squeezed Array: {sq1.shape}\")"
   ]
  },
  {
   "cell_type": "code",
   "execution_count": null,
   "metadata": {},
   "outputs": [],
   "source": [
    "# Squeezing specified axes\n",
    "\n",
    "q2 = np.squeeze(sq, axis=1)\n",
    "print(f\"Specified axis Squeezed Array: \\n {q2}\\n\")\n",
    "print(f\"Shape of Specified axis Squeezed Array: {q2.shape}\")"
   ]
  },
  {
   "cell_type": "markdown",
   "metadata": {},
   "source": [
    "#### Unsqueezing (Expanding) Numpy Arrays\n",
    "This is the direct opposite of squeezing. A new unit axis is inserted in specified position. Multiple unit axes can be inserted by using a tuple on the axis attribute of the `expand_dims` method."
   ]
  },
  {
   "cell_type": "code",
   "execution_count": null,
   "metadata": {},
   "outputs": [],
   "source": [
    "y = np.random.rand(4, 5)\n",
    "print(f\"Original Array: \\n {y}\\n\")\n",
    "print(f\"Shape of Original Array: {y.shape}\")\n",
    "\n",
    "# transforms from (4, 5) -> (4, 1, 5)\n",
    "y1 = np.expand_dims(y, axis=1)\n",
    "print(f\"Expanded Array: \\n {y1}\\n\")\n",
    "print(f\"Shape of Expanded Array: {y1.shape}\")\n",
    "\n",
    "# transforms from (4, 5) -> (1, 4, 1, 5)\n",
    "y2 = np.expand_dims(y, axis=(0, 2))\n",
    "print(f\"Multi-axes Expanded Array: \\n {y2}\\n\")\n",
    "print(f\"Shape of Multi-axes Expanded Array: {y2.shape}\")"
   ]
  },
  {
   "cell_type": "markdown",
   "metadata": {},
   "source": [
    "## 7. Combining data"
   ]
  },
  {
   "cell_type": "markdown",
   "metadata": {},
   "source": [
    "### a. Concatenation\n",
    "\n",
    "A concatenation operation joins a sequence of arrays along an *existing* axis. All arrays must either have the same shape (except in the concatenating dimension) or be empty."
   ]
  },
  {
   "cell_type": "code",
   "execution_count": null,
   "metadata": {},
   "outputs": [],
   "source": [
    "# Concatenating Numpy Arrays\n",
    "\n",
    "array1 = np.random.randint(3, size = (3, 2, 2))\n",
    "print(\"Array 1 is \\n\", array1, \" with dimensions \", array1.shape, \"\\n\")\n",
    "\n",
    "array2 = np.random.randint(4, size = (3, 2, 2))\n",
    "print(\"Array 2 is \\n\", array2, \" with dimensions \", array2.shape, \"\\n\")\n",
    "\n",
    "concatenated_array1 = np.concatenate((array1, array2), axis = 0) \n",
    "print(\"Concatenated array 1 is \\n\", concatenated_array1, \"\\n\\n\", \"and the dimensions of the concatenated array 1 are: \\n\", concatenated_array1.shape)\n",
    "\n",
    "concatenated_array2 = np.concatenate((array1, array2), axis = 1) \n",
    "print(\"Concatenated array 2 is \\n\", concatenated_array2, \"\\n\\n\", \"and the dimensions of the concatenated array 2 are: \\n\", concatenated_array2.shape)\n",
    "\n",
    "concatenated_array3 = np.concatenate((array1, array2), axis = 2) \n",
    "print(\"Concatenated array 3 is \\n\", concatenated_array3, \"\\n\\n\", \"and the dimensions of the concatenated array 3 are: \\n\", concatenated_array3.shape)\n"
   ]
  },
  {
   "cell_type": "markdown",
   "metadata": {},
   "source": [
    "### b. Stacking\n",
    "\n",
    "The stack operation joins a sequence of arrays along a *new* axis. The axis parameter specifies the index of the new axis in the dimensions of the result. For example, if axis = 0 it will be the first dimension and if axis = -1 it will be the last dimension. All arrays need to be of the same size.  The stacked array has one more dimension than the input arrays."
   ]
  },
  {
   "cell_type": "code",
   "execution_count": null,
   "metadata": {},
   "outputs": [],
   "source": [
    "# Stacking 1-d Arrays\n",
    "\n",
    "array1 = np.array([1, 2, 3])\n",
    "print(\"Array 1 is \\n\", array1, \" with dimensions \", array1.shape, \"\\n\")\n",
    "\n",
    "array2 = np.array([4, 5, 6])\n",
    "print(\"Array 2 is \\n\", array2, \" with dimensions \", array2.shape, \"\\n\")\n",
    "\n",
    "\n",
    "stacked_array1 = np.stack((array1, array2), axis = 0)\n",
    "print(\"Stacked array 1 is \\n\", stacked_array1, \" with dimensions \", stacked_array1.shape)\n",
    "\n",
    "stacked_array2 = np.stack((array1, array2), axis = 1) \n",
    "print(\"Stacked array 2 is \\n\", stacked_array2, \" with dimensions \", stacked_array2.shape)\n",
    "\n",
    "stacked_array3 = np.stack((array1, array2), axis = -1) \n",
    "print(\"Stacked array 3 is \\n\", stacked_array3, \" with dimensions \", stacked_array3.shape)"
   ]
  },
  {
   "cell_type": "code",
   "execution_count": null,
   "metadata": {},
   "outputs": [],
   "source": [
    "\n",
    "# Stacking Numpy Arrays\n",
    "\n",
    "array1 = np.random.randint(3, size = (3, 4, 5))\n",
    "print(\"Array 1 has dimensions \", array1.shape, \"\\n\")\n",
    "\n",
    "array2 = np.random.randint(4, size = (3, 4, 5))\n",
    "print(\"Array 2 has dimensions \", array2.shape, \"\\n\")\n",
    "\n",
    "stacked_array1 = np.stack((array1, array2), axis = 0)\n",
    "print(\"Stacked array 1 has dimensions\", stacked_array1.shape, \"\\n\")\n",
    "\n",
    "stacked_array2 = np.stack((array1, array2), axis = 1) \n",
    "print(\"Stacked array 2 has dimensions\", stacked_array2.shape, \"\\n\")\n",
    "\n",
    "stacked_array3 = np.stack((array1, array2), axis = 2) \n",
    "print(\"Stacked array 3 has dimensions\", stacked_array3.shape, \"\\n\")\n",
    "\n",
    "stacked_array4 = np.stack((array1, array2), axis = -1)\n",
    "print(\"Stacked array 4 has dimensions\", stacked_array4.shape, \"\\n\")"
   ]
  },
  {
   "cell_type": "markdown",
   "metadata": {},
   "source": [
    "### c. Repeat\n",
    "\n",
    "The repeat operation repeats elements of an array. The number of repetitions for each element is broadcasted to fit the shape of the given axis. The axis parameter specifies along which axis to repeat values. By default, it uses the flattened input array, and returns a flat output array."
   ]
  },
  {
   "cell_type": "code",
   "execution_count": null,
   "metadata": {},
   "outputs": [],
   "source": [
    "\n",
    "# Repeat in Numpy Arrays\n",
    "\n",
    "original_array = np.array([[1,2],[3,4]])\n",
    "print(\"Array is \\n\", original_array, \" with dimensions \", original_array.shape, \"\\n\")\n",
    "\n",
    "repeated_array1 = np.repeat(original_array, 2)\n",
    "print(\"Repeated array 1 is \\n\", repeated_array1, \"\\n\\n\", \"and the dimensions of the repeated array 1 are: \\n\", repeated_array1.shape, \"\\n\")\n",
    "\n",
    "repeated_array2 = np.repeat(original_array, 3, axis=0)\n",
    "print(\"Repeated array 2 is \\n\", repeated_array2, \"\\n\\n\", \"and the dimensions of the repeated array 2 are: \\n\", repeated_array2.shape, \"\\n\")\n",
    "\n",
    "repeated_array3 = np.repeat(original_array, 3, axis=1)\n",
    "print(\"Repeated array 3 is \\n\", repeated_array3, \"\\n\\n\", \"and the dimensions of the repeated array 3 are: \\n\", repeated_array3.shape, \"\\n\")\n",
    "\n",
    "repeated_array4 = np.repeat(original_array, [2,3], axis=0)\n",
    "print(\"Repeated array 4 is \\n\", repeated_array4, \"\\n\\n\", \"and the dimensions of the repeated array 4 are: \\n\", repeated_array4.shape, \"\\n\")\n"
   ]
  },
  {
   "cell_type": "markdown",
   "metadata": {},
   "source": [
    "## 8. Math operations"
   ]
  },
  {
   "cell_type": "markdown",
   "metadata": {},
   "source": [
    "In this section we will cover some commonly used mathematical operations\n",
    "1. Broadcasting\n",
    "1. Point-wise/element-wise operations\n",
    "1. Reduction operations\n",
    "1. Comparison operations\n",
    "1. Vector/Matrix operations\n",
    "1. Tensordot"
   ]
  },
  {
   "cell_type": "markdown",
   "metadata": {},
   "source": [
    "### a. Broadcasting"
   ]
  },
  {
   "cell_type": "code",
   "execution_count": null,
   "metadata": {},
   "outputs": [],
   "source": [
    "# Broadcasting b/w arrays of different dimensions\n",
    "# Note: When broadting two multi-dimensional tensors, match their corresponding dimensions beginning from the last dimension.\n",
    "# All dimensions should either match or one of the arrays should have length 1 in that specific dimension\n",
    "\n",
    "row_arr = np.random.rand(1,3)\n",
    "print(\"A row array: \\n\", row_arr, \" with dimensions \", row_arr.shape, \"\\n\")\n",
    "col_arr = np.random.rand(4,1)\n",
    "print(\"A column array: \\n\", col_arr, \" with dimensions \", col_arr.shape, \"\\n\")\n",
    "\n",
    "add_arr = row_arr + col_arr\n",
    "print(\"row array + column array = \")\n",
    "print(add_arr,\" with dimensions \", add_arr.shape, \"\\n\")\n",
    "mul_arr = row_arr * col_arr\n",
    "print(\"row array * column array = \")\n",
    "print(mul_arr,\" with dimensions \", mul_arr.shape, \"\\n\")"
   ]
  },
  {
   "cell_type": "markdown",
   "metadata": {},
   "source": [
    "### b. Element-wise operations"
   ]
  },
  {
   "cell_type": "code",
   "execution_count": null,
   "metadata": {},
   "outputs": [],
   "source": [
    "rand_arr_1 = np.random.rand(2,3)\n",
    "print(\"A random array1 : \\n\", rand_arr_1, \" with dimensions \", rand_arr_1.shape, \"\\n\")\n",
    "rand_arr_2 = np.random.rand(2,3)\n",
    "print(\"A random array2 : \\n\", rand_arr_2, \" with dimensions \", rand_arr_2.shape, \"\\n\")\n",
    "scalar = 5.0\n",
    "\n",
    "# Addition with Scalars\n",
    "new_arr_1 = rand_arr_1 + scalar\n",
    "print(\"random array1 + 5.0 =\")\n",
    "print(new_arr_1, \"\\n\")\n",
    "\n",
    "# Multiplication with Scalars\n",
    "new_arr_2 = rand_arr_1 * scalar\n",
    "print(\"random array1 * 5.0 =\")\n",
    "print(new_arr_2, \"\\n\")\n",
    "\n",
    "# Elementwise Addition of Arrays\n",
    "new_arr_3 = rand_arr_1 + rand_arr_2\n",
    "print(\"random array1 + random array2 =\")\n",
    "print(new_arr_3, \"\\n\")\n",
    "\n",
    "# Elementwise Multiplication of Arrays aka Hadmard Product\n",
    "new_arr_4 = rand_arr_1 * rand_arr_2\n",
    "print(\"random array1 * random array2 =\")\n",
    "print(new_arr_4, \"\\n\") # also equivalent to np.multiply(array1, array2)\n",
    "\n",
    "# Absolute value\n",
    "new_arr_5 = np.abs(-10*rand_arr_1)\n",
    "print(\"abs (-10 * random array1) =\")\n",
    "print(new_arr_5, \"\\n\")\n",
    "\n",
    "# Square root value\n",
    "new_arr_6 = np.sqrt(rand_arr_1)\n",
    "print('sqrt(random array1) = \\n', new_arr_6, \"\\n\")"
   ]
  },
  {
   "cell_type": "markdown",
   "metadata": {},
   "source": [
    "### c. Reduction"
   ]
  },
  {
   "cell_type": "code",
   "execution_count": null,
   "metadata": {},
   "outputs": [],
   "source": [
    "rand_arr = np.random.rand(2,3)\n",
    "print('random array: \\n', rand_arr, \"\\n\")\n",
    "\n",
    "max_val = np.max(rand_arr)\n",
    "print('Maximum value of array \\n', max_val, \"\\n\")\n",
    "min_val = np.min(rand_arr)\n",
    "print('Minimum value of array \\n', min_val, \"\\n\")\n",
    "\n",
    "sum_val = np.sum(rand_arr)\n",
    "print('Sum of array \\n', sum_val, \"\\n\")\n",
    "max_idx = np.argmax(rand_arr, axis=0)\n",
    "print('Maximum value\\'s index of array along axis 0 \\n', max_idx, \"\\n\")\n",
    "min_idx = np.argmin(rand_arr, axis=1)\n",
    "print('Minimum value\\'s index of array along axis 1 \\n', min_idx, \"\\n\")\n",
    "\n",
    "mean_val = np.mean(rand_arr)\n",
    "print('Mean value of array \\n', mean_val, \"\\n\")\n",
    "std_val = np.std(rand_arr)\n",
    "print('Standard deviation value of array \\n', std_val, \"\\n\")\n",
    "norm_val = np.linalg.norm(rand_arr)\n",
    "print('Norm value of array \\n', norm_val, \"\\n\")"
   ]
  },
  {
   "cell_type": "markdown",
   "metadata": {},
   "source": [
    "### d. Comparision"
   ]
  },
  {
   "cell_type": "code",
   "execution_count": null,
   "metadata": {},
   "outputs": [],
   "source": [
    "rand_arr_1 = np.random.rand(2,3)\n",
    "print('random array1: \\n', rand_arr_1, '\\n')\n",
    "rand_arr_2 = np.random.rand(2,3)\n",
    "print('random array2: \\n', rand_arr_2, '\\n')\n",
    "\n",
    "# Element-wise Comparison Operations\n",
    "greater_compare = rand_arr_1 > rand_arr_2\n",
    "print('random array1 > random array2')\n",
    "print(greater_compare, '\\n')\n",
    "\n",
    "less_compare = rand_arr_1 < rand_arr_2\n",
    "print('random array1 < random array2')\n",
    "print(less_compare, '\\n')\n",
    "\n",
    "not_equal_compare = rand_arr_1 != rand_arr_2\n",
    "print('random array1 != random array2')\n",
    "print(not_equal_compare, '\\n')\n",
    "\n",
    "# Combining reduction operations with boolean arrays\n",
    "print(\"any values for random array1 > random array2:\")\n",
    "print((rand_arr_1 > rand_arr_2).any(), \"\\n\")\n",
    "\n",
    "print(\"all values for random array1 > random array2:\")\n",
    "print((rand_arr_1 > rand_arr_2).all(), \"\\n\")\n",
    "\n",
    "print(\"any values along first axis for random array1 > random array2:\")\n",
    "print((rand_arr_1 > rand_arr_2).any(axis=0), \"\\n\")\n",
    "\n",
    "print(\"any values along second axis for random array1 > random array2:\")\n",
    "print((rand_arr_1 > rand_arr_2).any(axis=1), \"\\n\")\n",
    "\n",
    "print(\"any values for random array1 != random array2:\")\n",
    "print((rand_arr_1 != rand_arr_2).any(), \"\\n\")\n",
    "\n",
    "print(\"all values for random array1 != random array2:\")\n",
    "print((rand_arr_1 != rand_arr_2).all(), \"\\n\")"
   ]
  },
  {
   "cell_type": "markdown",
   "metadata": {},
   "source": [
    "### e. Vector/Matrix operations"
   ]
  },
  {
   "cell_type": "code",
   "execution_count": null,
   "metadata": {},
   "outputs": [],
   "source": [
    "# Vector x Vector\n",
    "array1 = np.random.randn(3)\n",
    "array2 = np.random.randn(3)\n",
    "\n",
    "print('Array1 \\n', array1, 'with dimension ', array1.shape, '\\n')\n",
    "print('Array2 \\n', array2, 'with dimension ', array2.shape, '\\n')\n",
    "\n",
    "matmul_arr = np.matmul(array1, array2)\n",
    "another_arr = array1@array2\n",
    "print('Matmul of the two arrays can be derived by using np.matmul(array1, array2) \\n', matmul_arr)\n",
    "print(\"Matmul of the two arrays can also be derived by using array1@array2 \\n\", another_arr)\n",
    "print('Dimensions of resulting product: \\n', matmul_arr.shape)\n",
    "\n",
    "# Matrix x Vector\n",
    "array3 = np.random.randn(3, 4)\n",
    "array4 = np.random.randn(4)\n",
    "\n",
    "print('Array3 \\n', array3, 'with dimension ', array3.shape, '\\n')\n",
    "print('Array4 \\n', array4, 'with dimension ', array4.shape, '\\n')\n",
    "\n",
    "matmul_arr = np.matmul(array3, array4)\n",
    "another_arr = array3@array4\n",
    "print('Matmul of a vector and a matrix can be derived by using np.matmul(array3, array4) \\n', matmul_arr)\n",
    "print('Matmul of a vector and a matrix can also be derived by using array3@array4 \\n', another_arr)\n",
    "print('Dimensions of resulting product: \\n', matmul_arr.shape)\n",
    "\n",
    "# Matrix x Matrix \n",
    "\n",
    "matrix1 = np.random.randint(4, size = (2, 3))\n",
    "matrix2 = np.random.randint(4, size = (3, 2))\n",
    "\n",
    "print('Matrix1 \\n', matrix1, 'with dimension ', matrix1.shape, '\\n')\n",
    "print('Matrix2 \\n', matrix2, 'with dimension ', matrix2.shape, '\\n')\n",
    "\n",
    "matmul_mat = np.matmul(matrix1, matrix2)\n",
    "print('Matmul of two matrices can be derived by using np.matmul(matrix1, matrix2) \\n', matmul_mat)\n",
    "print('Dimensions of resulting product: \\n', matmul_mat.shape, \"\\n\")"
   ]
  },
  {
   "cell_type": "code",
   "execution_count": null,
   "metadata": {},
   "outputs": [],
   "source": [
    "rand_mat_1 = np.random.rand(4,2)\n",
    "rand_mat_2 = np.random.rand(2,3)\n",
    "print('Matrix1 \\n', rand_mat_1, 'with dimension ', rand_mat_1.shape, '\\n')\n",
    "print('Matrix2 \\n', rand_mat_2, 'with dimension ', rand_mat_2.shape, '\\n')\n",
    "\n",
    "# dot product\n",
    "dot_mat = np.dot(rand_mat_1, rand_mat_2)\n",
    "another_mat = rand_mat_1@rand_mat_2\n",
    "print('Dot product of two matrices can be derived by using np.dot(mat1, mat2) \\n', dot_mat)\n",
    "print('Dot product of two matrices can also be derived by using mat1@mat2 \\n', another_mat)\n",
    "print('Dimensions of resulting product: \\n', dot_mat.shape)\n",
    "\n",
    "a = np.ones([9, 5, 7, 4])\n",
    "b = np.ones([9, 5, 4, 3])\n",
    "print('array1 \\'s dimension ', a.shape, '\\n')\n",
    "print('array2 \\'s dimension ', b.shape, '\\n')\n",
    "\n",
    "# matmul with multi-dimenstion arrays\n",
    "c = np.matmul(a,b)\n",
    "print('Matmul of two multi-dimension arrays can be derived by using np.matmul(array1, array2) \\n')\n",
    "print('Dimensions of resulting product: \\n', c.shape)"
   ]
  },
  {
   "cell_type": "markdown",
   "metadata": {},
   "source": [
    "### f. Tensordot\n",
    "\n",
    "Understanding tensordot function will help you in writing succint code for your homeworks especially in Convolutional Neural Net assignment.\n",
    "\n",
    "To give a brief overview: \n",
    "We input the arrays and the respective axes along which the sum-reductions are intended. The axes that take part in sum-reduction are removed in the output and all of the remaining axes from the input arrays are spread-out as different axes in the output keeping the order in which the input arrays are fed.\n",
    "\n",
    "To understand in depth please checkout: https://stackoverflow.com/questions/41870228/understanding-tensordot"
   ]
  },
  {
   "cell_type": "code",
   "execution_count": null,
   "metadata": {},
   "outputs": [],
   "source": [
    "a = np.arange(60.).reshape(3,4,5)\n",
    "b = np.arange(24.).reshape(4,3,2)\n",
    "print('A \\'s dimension ', a.shape, '\\n')\n",
    "print('B \\'s dimension ', b.shape, '\\n')\n",
    "\n",
    "# compute tensor dot product along specified axes.\n",
    "c = np.tensordot(a,b, axes=([1,0],[0,1]))\n",
    "print(\"A⨂B =\\n\", c, ' with dimension', c.shape, '\\n')\n",
    "\n",
    "# this equals to \n",
    "d = np.zeros((5,2))\n",
    "for i in range(5):\n",
    "  for j in range(2):\n",
    "    for k in range(3):\n",
    "      for n in range(4):\n",
    "        d[i,j] += a[k,n,i] * b[n,k,j]\n",
    "print(\"tensor dot is equal to sum over certain dimensions.\\n\")\n",
    "print(c==d)"
   ]
  }
 ],
 "metadata": {
  "kernelspec": {
   "display_name": "Python 3.9.1 64-bit",
   "language": "python",
   "name": "python3"
  },
  "language_info": {
   "name": "python",
   "version": "3.9.1"
  },
  "orig_nbformat": 4,
  "vscode": {
   "interpreter": {
    "hash": "397704579725e15f5c7cb49fe5f0341eb7531c82d19f2c29d197e8b64ab5776b"
   }
  }
 },
 "nbformat": 4,
 "nbformat_minor": 2
}
