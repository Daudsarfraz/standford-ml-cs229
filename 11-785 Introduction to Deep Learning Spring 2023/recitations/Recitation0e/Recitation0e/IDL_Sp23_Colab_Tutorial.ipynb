{
  "cells": [
    {
      "cell_type": "markdown",
      "metadata": {
        "id": "i3Vgb-ZrGFS6"
      },
      "source": [
        "## Recitation 0E: Introduction to Google Colab"
      ]
    },
    {
      "cell_type": "markdown",
      "metadata": {
        "id": "YKdaXJAtGFS8"
      },
      "source": [
        "### What is Google Colab?\n",
        "\n",
        "Google Colab is a tool from Google Research that provides a jupyter-notebook style Python3 execution environment in your browser"
      ]
    },
    {
      "cell_type": "markdown",
      "metadata": {
        "id": "8GCt2yX0GFS9"
      },
      "source": [
        "### Creating a New Notebook\n",
        "\n",
        "1. Go to https://colab.research.google.com/\n",
        "2. Select \"New notebook\" at the bottom, OR select an existing notebook from the various sources (Google Drive / GitHub / Upload)"
      ]
    },
    {
      "cell_type": "markdown",
      "metadata": {
        "id": "t3qcxgeZGFS9"
      },
      "source": [
        "### Setting up the Processor and Runtime Environment\n",
        "\n",
        "1. Click on \"Runtime\" in the toolbar\n",
        "2. Select \"Change runtime type\"\n",
        "3. Select the appropriate option"
      ]
    },
    {
      "cell_type": "markdown",
      "metadata": {
        "id": "pJXFFwewGFS-"
      },
      "source": [
        "### Using Terminal\n",
        "#### Installing Libraries"
      ]
    },
    {
      "cell_type": "code",
      "execution_count": null,
      "metadata": {
        "id": "weWcvO2gGFS-"
      },
      "outputs": [],
      "source": [
        "! pip install torch"
      ]
    },
    {
      "cell_type": "markdown",
      "metadata": {
        "id": "QzBMgUMwGFS_"
      },
      "source": [
        "#### Checking GPU instance"
      ]
    },
    {
      "cell_type": "code",
      "execution_count": null,
      "metadata": {
        "id": "HGbkNLeQGFS_"
      },
      "outputs": [],
      "source": [
        "! nvidia-smi"
      ]
    },
    {
      "cell_type": "code",
      "execution_count": null,
      "metadata": {
        "id": "NZ0vvsIuGFTA"
      },
      "outputs": [],
      "source": [
        "import torch\n",
        "DEVICE = torch.device(\"cuda\" if torch.cuda.is_available() else \"cpu\")\n",
        "print(\"Device: \", DEVICE)"
      ]
    },
    {
      "cell_type": "markdown",
      "metadata": {
        "id": "awdQZbscGFTA"
      },
      "source": [
        "### Connecting to your Google Drive\n",
        "#### Mounting the Drive"
      ]
    },
    {
      "cell_type": "code",
      "execution_count": null,
      "metadata": {
        "id": "4b8avAuIGFTA"
      },
      "outputs": [],
      "source": [
        "from google.colab import drive\n",
        "\n",
        "drive.mount(\"/content/drive\")"
      ]
    },
    {
      "cell_type": "markdown",
      "metadata": {
        "id": "ttjAkKcMGFTB"
      },
      "source": [
        "#### Creating a Directory"
      ]
    },
    {
      "cell_type": "code",
      "execution_count": null,
      "metadata": {
        "id": "wWTW5fEWGFTB"
      },
      "outputs": [],
      "source": [
        "import os\n",
        "os.mkdir(\"/content/drive/MyDrive/IDL-Sp23-Colab-Tutorial\")"
      ]
    },
    {
      "cell_type": "code",
      "execution_count": null,
      "metadata": {
        "id": "aoMyI5_kGFTB"
      },
      "outputs": [],
      "source": [
        "! ls /content/drive/MyDrive/IDL-Sp23-Colab-Tutorial"
      ]
    },
    {
      "cell_type": "markdown",
      "metadata": {
        "id": "LajE28RUGFTB"
      },
      "source": [
        "### Writing and Loading files from the directory\n",
        "#### Dummy DataFrame"
      ]
    },
    {
      "cell_type": "code",
      "execution_count": null,
      "metadata": {
        "id": "WuwPe0vTGFTB"
      },
      "outputs": [],
      "source": [
        "import pandas as pd\n",
        "dummy_data = {\"col_1\":[1,2,3], \"col_2\":[10,20,4],}\n",
        "df = pd.DataFrame(dummy_data)\n",
        "df.head()"
      ]
    },
    {
      "cell_type": "markdown",
      "metadata": {
        "id": "jt4IiVHYGFTC"
      },
      "source": [
        "##### Saving File"
      ]
    },
    {
      "cell_type": "code",
      "execution_count": null,
      "metadata": {
        "id": "2Ee4A_fmGFTC"
      },
      "outputs": [],
      "source": [
        "df.to_csv(\"/content/drive/MyDrive/IDL-Sp23-Colab-Tutorial/test.csv\", index=False)"
      ]
    },
    {
      "cell_type": "code",
      "execution_count": null,
      "metadata": {
        "id": "meBlMw6aGFTC"
      },
      "outputs": [],
      "source": [
        "! ls /content/drive/MyDrive/IDL-Sp23-Colab-Tutorial"
      ]
    },
    {
      "cell_type": "markdown",
      "metadata": {
        "id": "NStC1P7yGFTC"
      },
      "source": [
        "##### Reading File"
      ]
    },
    {
      "cell_type": "code",
      "execution_count": null,
      "metadata": {
        "id": "LbYV-v35GFTD"
      },
      "outputs": [],
      "source": [
        "df_load = pd.read_csv(\"/content/drive/MyDrive/IDL-Sp23-Colab-Tutorial/test.csv\", index_col=\"col_1\")\n",
        "df_load.head()"
      ]
    },
    {
      "cell_type": "markdown",
      "metadata": {
        "id": "V7pT1OdBGFTD"
      },
      "source": [
        "#### Dummy PyTorch Model"
      ]
    },
    {
      "cell_type": "code",
      "execution_count": null,
      "metadata": {
        "id": "_Yy3xLkgGFTD"
      },
      "outputs": [],
      "source": [
        "import torch\n",
        "import torch.nn as nn\n",
        "\n",
        "class MLP(nn.Module):\n",
        "\n",
        "    def __init__(self, size):\n",
        "        super(MLP, self).__init__()\n",
        "        \n",
        "        self.layers = []\n",
        "        for in_dim, out_dim in zip(size[:-2], size[1:-1]):\n",
        "          self.layers.extend([\n",
        "              nn.Linear(in_dim, out_dim),\n",
        "              nn.ReLU(),\n",
        "              nn.BatchNorm1d(out_dim),\n",
        "              nn.Dropout(0.5),\n",
        "          ])\n",
        "        self.layers.append(nn.Linear(size[-2], size[-1]))\n",
        "        self.model = nn.Sequential(*self.layers)\n",
        "        self.model.apply(self.init_param)\n",
        "\n",
        "    def init_param(self, param):\n",
        "      if type(param) == nn.Linear:\n",
        "        nn.init.xavier_uniform_(param.weight)\n",
        "\n",
        "    def forward(self, x):\n",
        "      return self.model(x)\n",
        "\n",
        "model = MLP([40, 2048, 512, 256, 71])"
      ]
    },
    {
      "cell_type": "markdown",
      "metadata": {
        "id": "gNv_zEhfGFTE"
      },
      "source": [
        "##### Saving Model"
      ]
    },
    {
      "cell_type": "code",
      "execution_count": null,
      "metadata": {
        "id": "ifTd60gYGFTE"
      },
      "outputs": [],
      "source": [
        "MODEL_SAVE_PATH = \"/content/drive/MyDrive/IDL-Sp23-Colab-Tutorial/dummy_model.pt\"\n",
        "\n",
        "torch.save({\n",
        "  'epoch': 10,\n",
        "  'model_state_dict': model.state_dict(),\n",
        "  'loss': 0.001,\n",
        "}, MODEL_SAVE_PATH)"
      ]
    },
    {
      "cell_type": "code",
      "execution_count": null,
      "metadata": {
        "id": "sKO_iqayGFTE"
      },
      "outputs": [],
      "source": [
        "! ls /content/drive/MyDrive/IDL-Sp23-Colab-Tutorial"
      ]
    },
    {
      "cell_type": "markdown",
      "metadata": {
        "id": "wy5Ob_u-GFTE"
      },
      "source": [
        "##### Loading Model"
      ]
    },
    {
      "cell_type": "code",
      "execution_count": null,
      "metadata": {
        "id": "o8Az03ZYGFTF"
      },
      "outputs": [],
      "source": [
        "saved = torch.load(MODEL_SAVE_PATH)\n",
        "\n",
        "print(\"epoch\", saved[\"epoch\"], \", loss\", saved[\"loss\"])\n",
        "\n",
        "\n",
        "new_model = MLP([40, 2048, 512, 256, 71])\n",
        "new_model.load_state_dict(saved[\"model_state_dict\"])"
      ]
    },
    {
      "cell_type": "markdown",
      "metadata": {
        "id": "xzjxfP-aGFTF"
      },
      "source": [
        "### Kaggle\n",
        "#### Connecting to Kaggle\n",
        "Your Kaggle token could be found at:\n",
        "Your Profile > Account tab > API section > Create New API token"
      ]
    },
    {
      "cell_type": "code",
      "execution_count": null,
      "metadata": {
        "id": "BMdlcFwxGFTF"
      },
      "outputs": [],
      "source": [
        "import json\n",
        "\n",
        "TOKEN = {\"username\":\"<INSERT YOUR KEY HERE>\",\"key\":\"<INSERT YOUR KEY HERE>\"}\n",
        "\n",
        "\n",
        "! pip install kaggle==1.5.12\n",
        "! mkdir -p .kaggle\n",
        "! mkdir -p /content & mkdir -p /content/.kaggle & mkdir -p /root/.kaggle/\n",
        "\n",
        "with open('/content/.kaggle/kaggle.json', 'w') as file:\n",
        "    json.dump(TOKEN, file)\n",
        "\n",
        "! pip install --upgrade --force-reinstall --no-deps kaggle\n",
        "! ls \"/content/.kaggle\"\n",
        "! chmod 600 /content/.kaggle/kaggle.json\n",
        "! cp /content/.kaggle/kaggle.json /root/.kaggle/\n",
        "\n",
        "! kaggle config set -n path -v /content"
      ]
    },
    {
      "cell_type": "markdown",
      "metadata": {
        "id": "yjX_OYQZGFTF"
      },
      "source": [
        "#### Sample Kaggle Competition\n",
        "https://www.kaggle.com/competitions/11785-sp23-intro-to-colab/\n",
        "##### Downloading the Data"
      ]
    },
    {
      "cell_type": "code",
      "execution_count": null,
      "metadata": {
        "id": "RUkwI2p3GFTG"
      },
      "outputs": [],
      "source": [
        "! kaggle competitions download -c 11785-sp23-intro-to-colab\n",
        "! unzip /content/competitions/11785-sp23-intro-to-colab/11785-sp23-intro-to-colab.zip -d /content"
      ]
    },
    {
      "cell_type": "markdown",
      "metadata": {
        "id": "YwYahkCGGFTG"
      },
      "source": [
        "##### Making a submission"
      ]
    },
    {
      "cell_type": "code",
      "execution_count": null,
      "metadata": {
        "id": "NPINvMggGFTG"
      },
      "outputs": [],
      "source": [
        "! kaggle competitions submit -c 11785-sp23-intro-to-colab -f /content/sampleSubmission.csv -m \"A test submission\""
      ]
    },
    {
      "cell_type": "markdown",
      "metadata": {
        "id": "AbK8I4bMGFTG"
      },
      "source": [
        "### Variable Inspector"
      ]
    },
    {
      "cell_type": "code",
      "execution_count": null,
      "metadata": {
        "id": "DvXv8JBoGFTG"
      },
      "outputs": [],
      "source": [
        "import numpy as np\n",
        "array = np.ones((10, 10))"
      ]
    },
    {
      "cell_type": "markdown",
      "metadata": {
        "id": "3DJGXoq5GFTG"
      },
      "source": [
        "### Resetting the Runtime\n",
        "1) Runtime > Restart Runtime\n",
        "\n",
        "\n",
        "2) Runtime > Disconnect and Delete Runtime"
      ]
    },
    {
      "cell_type": "markdown",
      "metadata": {},
      "source": [
        "### Tip When Upgrading to Google Colab Pro\n",
        "- Using your AndrewID to purchase Colab Pro will ensure you don't have to deal with the storage issue when saving your model checkpoints in Google Drive folders\n",
        "- If you encounter the error of not having payments enabled from your ID, email IT Services at it-help@cmu.edu, they should get it resolved\n",
        "- Please try to follow the best practices for saving model metrics and checkpoints as outlined in recitation 0s. It will help immensely in developing cleaner code and collaborating on ablations with your study group peers"
      ]
    }
  ],
  "metadata": {
    "accelerator": "GPU",
    "colab": {
      "provenance": []
    },
    "gpuClass": "standard",
    "kernelspec": {
      "display_name": "Python 3.7.13 ('yooni')",
      "language": "python",
      "name": "python3"
    },
    "language_info": {
      "codemirror_mode": {
        "name": "ipython",
        "version": 3
      },
      "file_extension": ".py",
      "mimetype": "text/x-python",
      "name": "python",
      "nbconvert_exporter": "python",
      "pygments_lexer": "ipython3",
      "version": "3.7.13"
    },
    "orig_nbformat": 4,
    "vscode": {
      "interpreter": {
        "hash": "b9173ea0a38a0f5ba10fde960da76538f16f7e7b1fe61e06d2b9984e20220f2a"
      }
    }
  },
  "nbformat": 4,
  "nbformat_minor": 0
}
